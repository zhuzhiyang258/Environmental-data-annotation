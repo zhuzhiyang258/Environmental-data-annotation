{
 "cells": [
  {
   "cell_type": "code",
   "execution_count": 3,
   "metadata": {},
   "outputs": [
    {
     "name": "stdout",
     "output_type": "stream",
     "text": [
      "标注为'有环保相关关键词'的行：\n",
      "                                              rowtext  \\\n",
      "11  请问公司未来对新房精装修前景是否持续看好？部分业主收房后重新装修对环境造成破坏，公司对此是否...   \n",
      "70             你好，我是万科A投资者，需要近几年的包括2022年的纸质年报，能邮寄给我吗？   \n",
      "\n",
      "                                          labeledtext        标注  \n",
      "11  请问公司未来对新房精装修前景是否持续看好？部分业主收房后重新装修对<环境>造成破坏，公司对此...  有环保相关关键词  \n",
      "70       你好，我是万科 A 投资者，需要近几年的包括 2022 年的<纸质>年报，能邮寄给我吗？  有环保相关关键词  \n",
      "标注为\"有环保相关关键词\"的占比: 1.43%\n"
     ]
    }
   ],
   "source": [
    "import pandas as pd\n",
    "\n",
    "# 读取Excel文件\n",
    "df = pd.read_excel('test_1.xlsx')\n",
    "\n",
    "# 比较两列，添加标注列\n",
    "df['标注'] = df.apply(lambda row: '有环保相关关键词' if '<' in row['labeledtext'] else '无环保相关的关键词', axis=1)\n",
    "\n",
    "# 计算标注的比例\n",
    "total_rows = len(df)\n",
    "labeled_rows = len(df[df['标注'] == '有环保相关关键词'])\n",
    "percentage_labeled = (labeled_rows / total_rows) * 100\n",
    "\n",
    "# 打印标注为“有环保相关关键词”的行\n",
    "print(\"标注为'有环保相关关键词'的行：\")\n",
    "print(df[df['标注'] == '有环保相关关键词'])\n",
    "\n",
    "print(f'标注为\"有环保相关关键词\"的占比: {percentage_labeled:.2f}%')\n",
    "\n",
    "# 保存结果到新的Excel文件\n",
    "# df.to_excel('test_1_labeled.xlsx', index=False)\n",
    "\n"
   ]
  }
 ],
 "metadata": {
  "kernelspec": {
   "display_name": "doubao",
   "language": "python",
   "name": "python3"
  },
  "language_info": {
   "codemirror_mode": {
    "name": "ipython",
    "version": 3
   },
   "file_extension": ".py",
   "mimetype": "text/x-python",
   "name": "python",
   "nbconvert_exporter": "python",
   "pygments_lexer": "ipython3",
   "version": "3.10.14"
  }
 },
 "nbformat": 4,
 "nbformat_minor": 2
}
